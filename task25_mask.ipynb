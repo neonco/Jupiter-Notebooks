{
  "cells": [
    {
      "cell_type": "markdown",
      "metadata": {
        "id": "view-in-github",
        "colab_type": "text"
      },
      "source": [
        "<a href=\"https://colab.research.google.com/github/neonco/Jupiter-Notebooks/blob/master/task25_mask.ipynb\" target=\"_parent\"><img src=\"https://colab.research.google.com/assets/colab-badge.svg\" alt=\"Open In Colab\"/></a>"
      ]
    },
    {
      "cell_type": "markdown",
      "id": "c215f723",
      "metadata": {
        "id": "c215f723"
      },
      "source": [
        "## Задания 25. Маски"
      ]
    },
    {
      "cell_type": "markdown",
      "id": "3328a9c8",
      "metadata": {
        "id": "3328a9c8"
      },
      "source": [
        "В соответствии со спецификацией ФИПИ, 25 задание относится к заданиям высокого уровня сложности. На её решение отведено 20 минут. Учитывая совсем небольшой объём кода, такие временные рамки обусловлены переборной сутью алгоритма.\n",
        "Оценка сложности и подбор оптимального метода решения позволят решать задачи намного быстрее."
      ]
    },
    {
      "cell_type": "markdown",
      "source": [
        "### Проверка строки по маске через fnmatch\n",
        "\n",
        "В заданиях под **маской** подразумевается шаблон, проверяющий **строки**.\n",
        "\n",
        "В Python проверка уже реализована в модуле fnmatch.\n",
        "\n",
        "Импортируемая функция fnmatch принимает на вход строку и маску, и возвращает совпала ли строка с маской булевой переменной."
      ],
      "metadata": {
        "id": "xyoaZWO38jht"
      },
      "id": "xyoaZWO38jht"
    },
    {
      "cell_type": "code",
      "source": [
        "from fnmatch import fnmatch\n",
        "\n",
        "mask = 'i_love_yandex'\n",
        "\n",
        "print(fnmatch('i_love_yandex', mask))          # True\n",
        "print(fnmatch('i_love_pelmenies', mask))       # False\n",
        "print(fnmatch('they_and_i_love_yandex', mask)) # False"
      ],
      "metadata": {
        "colab": {
          "base_uri": "https://localhost:8080/"
        },
        "id": "KzQp-Bs9_oSf",
        "outputId": "47453706-d72a-49a3-b345-6bf5c10ecd2a"
      },
      "id": "KzQp-Bs9_oSf",
      "execution_count": 10,
      "outputs": [
        {
          "output_type": "stream",
          "name": "stdout",
          "text": [
            "True\n",
            "False\n",
            "False\n"
          ]
        }
      ]
    },
    {
      "cell_type": "markdown",
      "source": [
        "В маске можно задавать **один** произвольный символ с помощью **вопросительного знака** ?"
      ],
      "metadata": {
        "id": "lULPUXEkDKcx"
      },
      "id": "lULPUXEkDKcx"
    },
    {
      "cell_type": "code",
      "source": [
        "from fnmatch import fnmatch\n",
        "\n",
        "mask = 'i_love_yand?x'\n",
        "\n",
        "print(fnmatch('i_love_yandex', mask))          # True\n",
        "print(fnmatch('i_love_yandux', mask))          # True\n",
        "print(fnmatch('i_love_yandeeex', mask))        # False"
      ],
      "metadata": {
        "colab": {
          "base_uri": "https://localhost:8080/"
        },
        "id": "S500PrK0D0Xd",
        "outputId": "53db6404-e7f2-411b-b1bd-0d258b839833"
      },
      "id": "S500PrK0D0Xd",
      "execution_count": 15,
      "outputs": [
        {
          "output_type": "stream",
          "name": "stdout",
          "text": [
            "True\n",
            "True\n",
            "False\n"
          ]
        }
      ]
    },
    {
      "cell_type": "markdown",
      "source": [
        "**Звёздочка** * помогает задать **любое** количество произвольных символов, даже их **полное отсуствие**."
      ],
      "metadata": {
        "id": "ACs4pnyVEUo4"
      },
      "id": "ACs4pnyVEUo4"
    },
    {
      "cell_type": "code",
      "source": [
        "from fnmatch import fnmatch\n",
        "\n",
        "mask = 'i_love_yand*'\n",
        "\n",
        "print(fnmatch('i_love_yandex', mask))            # True\n",
        "print(fnmatch('i_love_yanduuuuuuuuuuux', mask))  # True\n",
        "print(fnmatch('i_love_yand', mask))              # True"
      ],
      "metadata": {
        "colab": {
          "base_uri": "https://localhost:8080/"
        },
        "id": "fCnrSPrVEvS_",
        "outputId": "3d03a367-060d-4313-fb62-0768537f950f"
      },
      "id": "fCnrSPrVEvS_",
      "execution_count": 14,
      "outputs": [
        {
          "output_type": "stream",
          "name": "stdout",
          "text": [
            "True\n",
            "True\n",
            "True\n"
          ]
        }
      ]
    },
    {
      "cell_type": "markdown",
      "id": "30f518e3",
      "metadata": {
        "id": "30f518e3"
      },
      "source": [
        "### Задача 1. Демоверсия ФИПИ 2025\n",
        "\n",
        "Назовём маской числа последовательность цифр, в которой также могут\n",
        "встречаться следующие символы:\n",
        "- символ «?» означает ровно одну произвольную цифру;\n",
        "- символ «\\*» означает любую последовательность цифр произвольной\n",
        "длины; в том числе «\\*» может задавать и пустую последовательность.\n",
        "Например, маске 123\\*4?5 соответствуют числа 123405 и 12300405.\n",
        "\n",
        "Среди натуральных чисел, не превышающих 10\\*\\*10, найдите все числа,\n",
        "соответствующие маске 3?12?14\\*5, делящиеся на 1917 без остатка.\n",
        "В ответе запишите в первом столбце таблицы все найденные числа\n",
        "в порядке возрастания, а во втором столбце – соответствующие им\n",
        "результаты деления этих чисел на 1917.\n",
        "Количество строк в таблице для ответа избыточно."
      ]
    },
    {
      "cell_type": "markdown",
      "id": "63e065f5",
      "metadata": {
        "id": "63e065f5"
      },
      "source": [
        "\n",
        "\n",
        "---\n",
        "\n",
        "\n",
        "Решим задачу шаблонным **fnmatch**.\n",
        "Эта встроенная функция из одноимённого модуля сопоставляет строку и маску, возвращая только True или False. Удобно то, что шаблон-маска записывается абсолютно также, как в задании.\n",
        "\n",
        "Проверка строк через fnmatch занимает больше времени, чем проверка арифметических выражений с числами. Поэтому сначала проверим делимость, только после используем fnmatch."
      ]
    },
    {
      "cell_type": "code",
      "execution_count": null,
      "id": "7d57da2a",
      "metadata": {
        "id": "7d57da2a"
      },
      "outputs": [],
      "source": [
        "from fnmatch import fnmatch\n",
        "\n",
        "mask = '3?12?14*5'\n",
        "\n",
        "for n in range(1, 10**10):\n",
        "    if n % 1917 == 0:\n",
        "        if fnmatch(str(n), mask):\n",
        "            print(n, n // 1917)"
      ]
    },
    {
      "cell_type": "markdown",
      "id": "e6343b34",
      "metadata": {
        "id": "e6343b34"
      },
      "source": [
        "Программа написана верно и выдаёт правильные ответы, но делает это непростительно долго.\n",
        "**Миллиард** - разумное ограничение перебора чисел для Python.\n",
        "В задаче перебирается 10 миллиардов чисел, что вынуждает искать пути оптимизации."
      ]
    },
    {
      "cell_type": "markdown",
      "id": "5c7dcf85",
      "metadata": {
        "id": "5c7dcf85"
      },
      "source": [
        "#### Оптимизация проверки на делимость.\n",
        "Возьмём число, заведомо делящееся на 1917. В случае натуральных чисел само число 1917 и будет первым таковым. Но удобнее использовать **0**, так как он делится на любое натуральное число. Будем брать не каждое следующее за нулём число, а с **шагом** в 1917.\n",
        "Таким образом можно убрать проверку на делимость.\n"
      ]
    },
    {
      "cell_type": "code",
      "execution_count": 3,
      "id": "e6195a4a",
      "metadata": {
        "id": "e6195a4a",
        "outputId": "228d88c9-6e81-49a0-b5dc-2c3c69d84b25",
        "colab": {
          "base_uri": "https://localhost:8080/"
        }
      },
      "outputs": [
        {
          "output_type": "stream",
          "name": "stdout",
          "text": [
            "351261495 183235\n",
            "3212614035 1675855\n",
            "3412614645 1780185\n",
            "3712414275 1936575\n",
            "3912414885 2040905\n"
          ]
        }
      ],
      "source": [
        "from fnmatch import fnmatch\n",
        "\n",
        "mask = '3?12?14*5'\n",
        "\n",
        "for n in range(0, 10**10, 1917):\n",
        "    if fnmatch(str(n), mask):\n",
        "        print(n, n // 1917)"
      ]
    },
    {
      "cell_type": "markdown",
      "id": "be16e20c",
      "metadata": {
        "id": "be16e20c"
      },
      "source": [
        "Задача решилась за 10 секунд, так как перебор сократился в 1917 раз."
      ]
    },
    {
      "cell_type": "markdown",
      "id": "8541195e",
      "metadata": {
        "id": "8541195e"
      },
      "source": [
        "### Задача 2.\n",
        "[ссылка на задание](https://education.yandex.ru/ege/collections/da3db128-d559-4f5b-b808-270108cda5c2/task/5)\n",
        "\n",
        "Требуется найти все натуральные числа меньшие 10⁹, которые кратны 183 и соответствуют маске «??287*139».\n",
        "\n",
        "Применив оценку 10**9 / 183, понимаем что укладываемся в миллиард. Решим аналогично предыдущей задаче."
      ]
    },
    {
      "cell_type": "code",
      "execution_count": null,
      "id": "d1fa7a76",
      "metadata": {
        "id": "d1fa7a76"
      },
      "outputs": [],
      "source": [
        "from fnmatch import fnmatch\n",
        "\n",
        "mask = '??287*139'\n",
        "\n",
        "for n in range(0, 10**9, 183):\n",
        "    if fnmatch(str(n), mask):\n",
        "        print(n, n // 183)"
      ]
    },
    {
      "cell_type": "markdown",
      "id": "99133bf3",
      "metadata": {
        "id": "99133bf3"
      },
      "source": [
        "### Задача 3.\n",
        "[ссылка на задание](https://education.yandex.ru/ege/collections/da3db128-d559-4f5b-b808-270108cda5c2/task/3)\n",
        "\n",
        "Среди натуральных чисел, не превышающих 10**12 , найдите все числа, соответствующие маске 4?8?15?16?23, делящиеся на 123 с остатком 42.\n",
        "\n",
        "Задача отличается от предыдущих требованием по делимости. При делении 0 на 123 остаток будет равен 0. Сдвинем начальную точку отсчёта до 42, выполнив условие остатка 42 при делении на 123. Шаг не меняется."
      ]
    },
    {
      "cell_type": "code",
      "execution_count": null,
      "id": "f69427be",
      "metadata": {
        "id": "f69427be"
      },
      "outputs": [],
      "source": [
        "from fnmatch import fnmatch\n",
        "\n",
        "mask = '4?8?15?16?23'\n",
        "\n",
        "for n in range(42, 10**12, 123):\n",
        "    if fnmatch(str(n), mask):\n",
        "        print(n, n // 123)"
      ]
    },
    {
      "cell_type": "markdown",
      "id": "aaa791fe",
      "metadata": {
        "id": "aaa791fe"
      },
      "source": [
        "Программа работает слишком долго.\n",
        "Оценим сложность как 10**12 / 123, что чуть меньше 10 миллиардов. Необходимо оптимизировать."
      ]
    },
    {
      "cell_type": "markdown",
      "id": "fa5b36a2",
      "metadata": {
        "id": "fa5b36a2"
      },
      "source": [
        "#### Оптимизация перебора.\n",
        "Внимательно рассмотрим маску \"4?8?15?16?23\". В ней содержатся 8 цифр и 4 вопросительных знака, которые означают ровно одну произвольную цифру. Таким образом любое подходящее число должно быть минимум 12-тизначным. А если учитывать что верхняя граница перебора - 1000 миллиардов, то все эти числа не будут превосходить 12 цифр в записи.\n",
        "Но даже такой перебор будет для нас долгим.\n",
        "\n",
        "Остаётся только **генерировать** числа по маске.\n",
        "Заметив что в маске стоят 4 вопросительных знака (не в крайней левой позиции), каждый из которых может быть одной из 10 цифр. Тогда перебирая все возможные варианты, получим их число 10\\*10\\*10\\*10 = 10**4 = 10000.\n",
        "\n",
        "Сгенерируем все эти варианты как **f-строки** и запишем в список как **числа**."
      ]
    },
    {
      "cell_type": "code",
      "execution_count": null,
      "id": "b1971ae1",
      "metadata": {
        "id": "b1971ae1"
      },
      "outputs": [],
      "source": [
        "m = []\n",
        "\n",
        "digits = '0123456789'\n",
        "for d1 in digits:\n",
        "    for d2 in digits:\n",
        "        for d3 in digits:\n",
        "            for d4 in digits:\n",
        "                n = f'4{d1}8{d2}15{d3}16{d4}23'\n",
        "                m.append(int(n))\n",
        "\n",
        "print(len(m), m[:5])\n"
      ]
    },
    {
      "cell_type": "markdown",
      "id": "ad87c62e",
      "metadata": {
        "id": "ad87c62e"
      },
      "source": [
        "В задаче требуется найти количество чисел и максимальное из них.\n",
        "Удобнее воспользоваться **генераторами списков** для фильтрации по условию делимости."
      ]
    },
    {
      "cell_type": "code",
      "execution_count": null,
      "id": "23106f61",
      "metadata": {
        "id": "23106f61"
      },
      "outputs": [],
      "source": [
        "res = [n for n in m if n % 123 == 42]\n",
        "print(len(res), max(res))"
      ]
    },
    {
      "cell_type": "markdown",
      "id": "d25b424a",
      "metadata": {
        "id": "d25b424a"
      },
      "source": [
        "Или более стандартно через **for** и **переменные**."
      ]
    },
    {
      "cell_type": "code",
      "execution_count": null,
      "id": "387592fe",
      "metadata": {
        "id": "387592fe"
      },
      "outputs": [],
      "source": [
        "count = 0\n",
        "max_n = 0\n",
        "for n in m:\n",
        "    if n % 123 == 42:\n",
        "        count += 1\n",
        "        max_n = max(max_n, n)\n",
        "print(count, max_n)"
      ]
    },
    {
      "cell_type": "markdown",
      "source": [
        "### Задача 4.\n",
        "[ссылка на задание](https://education.yandex.ru/ege/collections/da3db128-d559-4f5b-b808-270108cda5c2/task/3)\n",
        "\n",
        "ЗАГЛУШКА, БЕНЧМАРК регулярок"
      ],
      "metadata": {
        "id": "6K3tBVXOTTL2"
      },
      "id": "6K3tBVXOTTL2"
    },
    {
      "cell_type": "code",
      "source": [
        "%%time\n",
        "import re\n",
        "\n",
        "pattern = r'^[02468][13579][02468][02468][13579][02468]$'\n",
        "\n",
        "res = 0\n",
        "for n in range(1, 10_000_000):\n",
        "    if re.fullmatch(pattern, str(n)):\n",
        "        res += 1\n",
        "print(res)"
      ],
      "metadata": {
        "colab": {
          "base_uri": "https://localhost:8080/"
        },
        "id": "UwpnFrihWo_6",
        "outputId": "d4183d66-948e-405c-dd00-5622708e5732"
      },
      "id": "UwpnFrihWo_6",
      "execution_count": 26,
      "outputs": [
        {
          "output_type": "stream",
          "name": "stdout",
          "text": [
            "12500\n",
            "CPU times: user 9.58 s, sys: 3.87 ms, total: 9.58 s\n",
            "Wall time: 9.65 s\n"
          ]
        }
      ]
    },
    {
      "cell_type": "code",
      "source": [
        "%%time\n",
        "import re\n",
        "\n",
        "pattern = re.compile(r'^[02468][13579][02468][02468][13579][02468]$')\n",
        "\n",
        "res = 0\n",
        "for n in range(1, 10_000_000):\n",
        "    if re.fullmatch(pattern, str(n)):\n",
        "        res += 1\n",
        "print(res)"
      ],
      "metadata": {
        "id": "HskPYCVaZNea",
        "outputId": "38eee3de-5ada-4467-e2fd-87e5f478ad16",
        "colab": {
          "base_uri": "https://localhost:8080/"
        }
      },
      "id": "HskPYCVaZNea",
      "execution_count": 27,
      "outputs": [
        {
          "output_type": "stream",
          "name": "stdout",
          "text": [
            "12500\n",
            "CPU times: user 16.2 s, sys: 7.93 ms, total: 16.2 s\n",
            "Wall time: 16.3 s\n"
          ]
        }
      ]
    }
  ],
  "metadata": {
    "kernelspec": {
      "display_name": "Python 3",
      "language": "python",
      "name": "python3"
    },
    "language_info": {
      "codemirror_mode": {
        "name": "ipython",
        "version": 3
      },
      "file_extension": ".py",
      "mimetype": "text/x-python",
      "name": "python",
      "nbconvert_exporter": "python",
      "pygments_lexer": "ipython3",
      "version": "3.13.3"
    },
    "colab": {
      "provenance": [],
      "include_colab_link": true
    }
  },
  "nbformat": 4,
  "nbformat_minor": 5
}